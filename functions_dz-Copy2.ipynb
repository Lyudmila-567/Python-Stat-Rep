{
 "cells": [
  {
   "cell_type": "markdown",
   "metadata": {},
   "source": [
    "Вам нужно помочь секретарю автоматизировать работу. Для этого нужно написать программу, которая будет на основе хранимых данных исполнять пользовательские команды.\n",
    "Исходные данные имеют следующую структуру:\n",
    "\n",
    "1.перечень всех документов\n",
    "documents = [\n",
    "{‘type’: ‘passport’, ‘number’: ‘2207 876234’, ‘name’: ‘Василий Гупкин’},\n",
    "{‘type’: ‘invoice’, ‘number’: ‘11-2’, ‘name’: ‘Геннадий Покемонов’},\n",
    "{‘type’: ‘insurance’, ‘number’: ‘10006’, ‘name’: ‘Аристарх Павлов’}\n",
    "]\n",
    "\n",
    "2.перечень полок, на которых хранятся документы (если документ есть в documents, то он обязательно должен быть и в directories)\n",
    "\n",
    "directories = {\n",
    "‘1’: [‘2207 876234’, ‘11-2’],\n",
    "‘2’: [‘10006’],\n",
    "‘3’: []\n",
    "}\n",
    "\n",
    "Общие требования к программе:\n",
    "\n",
    "код должен быть грамотно декомпозирован (каждая функция отвечает за свою конкретную задачу, дублирующийся функционал переиспользуется, а его код не повторяется);\n",
    "в коде отсутствуют глобальные переменные (за исключением documents и directories);\n",
    "пользовательский ввод обрабатывается в цикле while до тех пор, пока пользователь явно не завершит программу (вводом команды “q”)."
   ]
  },
  {
   "cell_type": "code",
   "execution_count": 49,
   "metadata": {},
   "outputs": [],
   "source": [
    "documents = [\n",
    "     {'type': 'passport', 'number': '2207 876234', 'name': 'Василий Гупкин'},\n",
    "     {'type': 'invoice', 'number': '11-2', 'name': 'Геннадий Покемонов'},\n",
    "     {'type': 'insurance', 'number': '10006', 'name': 'Аристарх Павлов'}\n",
    " ]\n",
    "directories = {\n",
    "     '1': ['2207 876234', '11-2'],\n",
    "     '2': ['10006'],\n",
    "     '3': ['10']\n",
    " }"
   ]
  },
  {
   "cell_type": "markdown",
   "metadata": {},
   "source": [
    "Задание 1\n",
    "Пункт 1. Пользователь по команде “p” может узнать владельца документа по его номеру\n",
    "Примеры работы:\n",
    "\n",
    "Введите команду:\n",
    "p\n",
    "Введите номер документа:\n",
    "10006\n",
    "Результат:\n",
    "Владелец документа: Аристарх Павлов\n",
    "Введите команду:\n",
    "p\n",
    "Введите номер документа:\n",
    "12345\n",
    "Результат:\n",
    "Документ не найден в базе"
   ]
  },
  {
   "cell_type": "code",
   "execution_count": 29,
   "metadata": {},
   "outputs": [
    {
     "name": "stdout",
     "output_type": "stream",
     "text": [
      "Введите номер документа: 10006\n",
      "Владелец документа: Аристарх Павлов\n"
     ]
    }
   ],
   "source": [
    "def person_name(*arg):\n",
    "    user_input_doc = input('Введите номер документа: ')\n",
    "    for person in documents:\n",
    "        if user_input_doc == person['number']:\n",
    "            return f'Владелец документа: ' + str(person['name'])\n",
    "    return 'Документ не найден в базе'\n",
    "print(person_name())"
   ]
  },
  {
   "cell_type": "markdown",
   "metadata": {},
   "source": [
    "Пункт 2. Пользователь по команде “s” может по номеру документа узнать, на какой полке он хранится.\n",
    "Примеры работы:\n",
    "\n",
    "Введите команду:\n",
    "s\n",
    "Введите номер документа:\n",
    "10006\n",
    "\n",
    "Результат:\n",
    "Документ хранится на полке: 2\n",
    "\n",
    "Введите команду:\n",
    "p\n",
    "Введите номер документа:\n",
    "12345\n",
    "\n",
    "Результат:\n",
    "Документ не найден в базе"
   ]
  },
  {
   "cell_type": "code",
   "execution_count": 31,
   "metadata": {},
   "outputs": [
    {
     "name": "stdout",
     "output_type": "stream",
     "text": [
      "Введите номер документа: 11-2\n",
      "Документ хранится на полке: 1\n"
     ]
    }
   ],
   "source": [
    "def shelf_number():\n",
    "    input_docnum = input('Введите номер документа: ')\n",
    "    for key, value in directories.items():\n",
    "        if input_docnum in value:\n",
    "            return f'Документ хранится на полке: ' + str(key)\n",
    "    return 'Документ не найден в базе'\n",
    "print(shelf_number())"
   ]
  },
  {
   "cell_type": "markdown",
   "metadata": {},
   "source": [
    "Пункт 3. Пользователь по команде “l” может увидеть полную информацию по всем документам\n",
    "Пример работы:\n",
    "\n",
    "Введите команду:\n",
    "l\n",
    "Результат:\n",
    "\n",
    "№: 2207 876234, тип: passport, владелец: Василий Гупкин, полка хранения: 1\n",
    "№: 11-2, тип: invoice, владелец: Геннадий Покемонов, полка хранения: 1\n",
    "№: 10006, тип: insurance, владелец: Аристарх Павлов, полка хранения: 2"
   ]
  },
  {
   "cell_type": "code",
   "execution_count": 50,
   "metadata": {},
   "outputs": [],
   "source": [
    "def person_list():\n",
    "    for personx in documents:\n",
    "        doc_num = personx['number']\n",
    "        for shelf, value in directories.items():\n",
    "            if personx['number'] in value:\n",
    "                print(f'№: '+ str(personx['number']) + ', тип: ' + str(personx['type']) + ', владелец: ' + str(personx['name']) + ', полка хранения: ' + str(shelf))"
   ]
  },
  {
   "cell_type": "code",
   "execution_count": 51,
   "metadata": {},
   "outputs": [
    {
     "name": "stdout",
     "output_type": "stream",
     "text": [
      "№: 2207 876234, тип: passport, владелец: Василий Гупкин, полка хранения: 1\n",
      "№: 11-2, тип: invoice, владелец: Геннадий Покемонов, полка хранения: 1\n",
      "№: 10006, тип: insurance, владелец: Аристарх Павлов, полка хранения: 2\n",
      "None\n"
     ]
    }
   ],
   "source": [
    "print(person_list())"
   ]
  },
  {
   "cell_type": "markdown",
   "metadata": {},
   "source": [
    "Пункт 4. Пользователь по команде “as” может добавить новую полку\n",
    "Примеры работы:\n",
    "\n",
    "Введите команду:\n",
    "as\n",
    "Введите номер полки:\n",
    "10\n",
    "Результат:\n",
    "Полка добавлена. Текущий перечень полок: 1, 2, 3, 10.\n",
    "\n",
    "Введите команду:\n",
    "as\n",
    "Введите номер полки:\n",
    "1\n",
    "Результат:\n",
    "Такая полка уже существует. Текущий перечень полок: 1, 2, 3."
   ]
  },
  {
   "cell_type": "code",
   "execution_count": 37,
   "metadata": {},
   "outputs": [
    {
     "name": "stdout",
     "output_type": "stream",
     "text": [
      "Введите номер полки: 6\n",
      "Полка добавлена. Текущий перечень полок: 1, 2, 3, 56, 6\n"
     ]
    }
   ],
   "source": [
    "def add_new_shelf():\n",
    "    new_shelf = input('Введите номер полки: ')\n",
    "    empty_shelf = []\n",
    "    if new_shelf not in directories:\n",
    "        empty_shelf = directories.setdefault(new_shelf)\n",
    "        return f'Полка добавлена. Текущий перечень полок: ' + str(', '.join(list(directories.keys())))\n",
    "    return f'Такая полка уже существует. Текущий перечень полок: ' + str(', '.join(list(directories.keys())))\n",
    "print(add_new_shelf())"
   ]
  },
  {
   "cell_type": "markdown",
   "metadata": {},
   "source": [
    "Пункт 5. Пользователь по команде “ds” может удалить существующую полку из данных (только если она пустая)\n",
    "Примеры работы:\n",
    "Введите команду:\n",
    "ds\n",
    "Введите номер полки:\n",
    "3\n",
    "Результат:\n",
    "Полка удалена. Текущий перечень полок: 1, 2.\n",
    "\n",
    "Введите команду:\n",
    "ds\n",
    "Введите номер полки:\n",
    "1\n",
    "Результат:\n",
    "На полке есть документы, удалите их перед удалением полки. Текущий перечень полок: 1, 2, 3.\n",
    "\n",
    "Введите команду:\n",
    "ds\n",
    "Введите номер полки:\n",
    "4\n",
    "Результат:\n",
    "Такой полки не существует. Текущий перечень полок: 1, 2, 3."
   ]
  },
  {
   "cell_type": "code",
   "execution_count": 39,
   "metadata": {},
   "outputs": [
    {
     "name": "stdout",
     "output_type": "stream",
     "text": [
      "Введите номер полки: 3\n",
      "На полке есть документы, удалите их перед удалением полки. Текущий перечень полок: 1, 2, 3, 56\n"
     ]
    }
   ],
   "source": [
    "def shelf_delete():\n",
    "    input_shelf_num = input('Введите номер полки: ')\n",
    "    if input_shelf_num not in directories:\n",
    "        return f'Такой полки не существует. Текущий перечень полок: ' + str(', '.join(list(directories.keys())))\n",
    "    elif input_shelf_num in directories and directories[input_shelf_num] is None or directories[input_shelf_num] == []:\n",
    "        directories.pop(input_shelf_num, None)\n",
    "        return f'Полка удалена. Текущий перечень полок: ' + str(', '.join(list(directories.keys())))\n",
    "    return f'На полке есть документы, удалите их перед удалением полки. Текущий перечень полок: ' + str(', '.join(list(directories.keys())))\n",
    "print(shelf_delete())"
   ]
  },
  {
   "cell_type": "code",
   "execution_count": 52,
   "metadata": {},
   "outputs": [
    {
     "name": "stdout",
     "output_type": "stream",
     "text": [
      "Введите команду: l\n",
      "№: 2207 876234, тип: passport, владелец: Василий Гупкин, полка хранения: 1\n",
      "№: 11-2, тип: invoice, владелец: Геннадий Покемонов, полка хранения: 1\n",
      "№: 10006, тип: insurance, владелец: Аристарх Павлов, полка хранения: 2\n",
      "None\n",
      "Введите команду: p\n",
      "Введите номер документа: 10006\n",
      "Владелец документа: Аристарх Павлов\n",
      "Введите команду: s\n",
      "Введите номер документа: 78\n",
      "Документ не найден в базе\n",
      "Введите команду: as\n",
      "Введите номер полки: 9\n",
      "Полка добавлена. Текущий перечень полок: 1, 2, 3, 9\n",
      "Введите команду: as\n",
      "Введите номер полки: 10\n",
      "Полка добавлена. Текущий перечень полок: 1, 2, 3, 9, 10\n",
      "Введите команду: ds\n",
      "Введите номер полки: 3\n",
      "На полке есть документы, удалите их перед удалением полки. Текущий перечень полок: 1, 2, 3, 9, 10\n",
      "Введите команду: ds\n",
      "Введите номер полки: 10\n",
      "Полка удалена. Текущий перечень полок: 1, 2, 3, 9\n",
      "Введите команду: q\n",
      "None\n"
     ]
    }
   ],
   "source": [
    "def final_command():\n",
    "    while True:\n",
    "        user_input = input('Введите команду: ')\n",
    "        if user_input == 'q':\n",
    "            break\n",
    "        elif user_input == 'p':\n",
    "            print(person_name())\n",
    "        elif user_input == 's':\n",
    "            print(shelf_number())\n",
    "        elif user_input == 'l':\n",
    "            print(person_list())\n",
    "        elif user_input == 'as':\n",
    "            print(add_new_shelf())\n",
    "        elif user_input == 'ds':\n",
    "            print(shelf_delete())\n",
    "print(final_command())"
   ]
  },
  {
   "cell_type": "code",
   "execution_count": null,
   "metadata": {},
   "outputs": [],
   "source": []
  }
 ],
 "metadata": {
  "kernelspec": {
   "display_name": "Python 3",
   "language": "python",
   "name": "python3"
  },
  "language_info": {
   "codemirror_mode": {
    "name": "ipython",
    "version": 3
   },
   "file_extension": ".py",
   "mimetype": "text/x-python",
   "name": "python",
   "nbconvert_exporter": "python",
   "pygments_lexer": "ipython3",
   "version": "3.7.6"
  }
 },
 "nbformat": 4,
 "nbformat_minor": 4
}
