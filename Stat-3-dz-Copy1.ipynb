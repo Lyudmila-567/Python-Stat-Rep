{
 "cells": [
  {
   "cell_type": "markdown",
   "metadata": {},
   "source": [
    "Смоделировать игру против лотерейного автомата типа \"777\". Игрок платит 1 руб., после чего выпадает случайное целое число, равномерно распределенное от 0 до 999. При некоторых значениях числа игрок получает выигрыш.\n",
    "Выгодна ли игра игроку?\n",
    "Сколько в среднем приобретает или теряет игрок за 1 игру?\n",
    "\n",
    "1 игра - это количество попыток = кол-во руб.\n",
    "Успешные исходы - все выигрышы с комбинациями:\n",
    "Значения: 777,999,555,333,111,*77,**7,*00,**0\n",
    "Выигрышы: 200,100,50, 15, 10, 5,  3,  2,  1 руб.\n"
   ]
  },
  {
   "cell_type": "code",
   "execution_count": 1,
   "metadata": {},
   "outputs": [],
   "source": [
    "import numpy as np"
   ]
  },
  {
   "cell_type": "code",
   "execution_count": 3,
   "metadata": {},
   "outputs": [
    {
     "name": "stdout",
     "output_type": "stream",
     "text": [
      "1005 1022 1065 985 1020 9023 90102 100529 1000000 20 % 797375\n",
      "Не выгодно: - 202625 руб.\n"
     ]
    }
   ],
   "source": [
    "np.random.seed(None)\n",
    "trials = 1000000  # Количество попыток\n",
    "success999 = 0\n",
    "success777 = 0\n",
    "success555 = 0\n",
    "success333 = 0\n",
    "success111 = 0\n",
    "success77 = 0\n",
    "success7 = 0\n",
    "success0 = 0\n",
    "\n",
    "for i in range(trials):\n",
    "    lottery_comb = np.random.randint(0, 1000)    \n",
    "    if lottery_comb == 777:\n",
    "        success777 += 1\n",
    "    elif lottery_comb == 999:\n",
    "        success999 += 1\n",
    "    elif lottery_comb == 555:\n",
    "        success555 += 1\n",
    "    elif lottery_comb == 333:\n",
    "        success333 += 1\n",
    "    elif lottery_comb == 111:\n",
    "        success111 += 1\n",
    "    elif lottery_comb % 100 == 77:\n",
    "        success77 += 1\n",
    "    elif lottery_comb % 10 == 7:\n",
    "        success7 += 1\n",
    "    elif lottery_comb % 10 == 0:\n",
    "        success0 += 1\n",
    "    \n",
    "success = success777+success999+success555+success333+success111+success77+success7+success0        \n",
    "p_monte_carlo = round(success / trials  * 100)  # Вероятность в %\n",
    "\n",
    "prize = (success777 * 200) + (success999 * 100) + (success555 * 50) + (success333 * 15) + (success111 * 10) + (success77 * 5) + (success7 * 3) + (success0 * 1)\n",
    "\n",
    "print(success777, success999, success555, success333, success111, success77, success7, success0, trials, p_monte_carlo,f'%', prize)\n",
    "\n",
    "if prize > trials:\n",
    "    profit = prize - trials\n",
    "    print (f'Выгодно: +',profit, 'руб.')\n",
    "else:\n",
    "    collapse = trials - prize\n",
    "    print (f'Не выгодно: -',collapse, 'руб.')\n",
    "    \n"
   ]
  },
  {
   "cell_type": "markdown",
   "metadata": {},
   "source": [
    "Большое спасибо за комментарий! Теперь стало понятно, почему у меня выходил такой разброс в результатах (было мало попыток - думала ориентироваться на реально возможное кол-во бросков, а нужно на статистически значимое :-)). На счет комбинации 00 - почему-то решила, что это число, оканчивающееся на 00, вроде 100 (теперь вижу, что в условии нет * перед 00), поэтому это число убираю из условия, т.к. целого числа 00 не существует (согласно определению целых чисел). Еще раз спасибо за комментарии!"
   ]
  }
 ],
 "metadata": {
  "kernelspec": {
   "display_name": "Python 3",
   "language": "python",
   "name": "python3"
  },
  "language_info": {
   "codemirror_mode": {
    "name": "ipython",
    "version": 3
   },
   "file_extension": ".py",
   "mimetype": "text/x-python",
   "name": "python",
   "nbconvert_exporter": "python",
   "pygments_lexer": "ipython3",
   "version": "3.7.6"
  }
 },
 "nbformat": 4,
 "nbformat_minor": 4
}
