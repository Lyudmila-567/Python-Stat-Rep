{
 "cells": [
  {
   "cell_type": "markdown",
   "metadata": {},
   "source": [
    "Start\n",
    "Shift+Enter - выполнить и перейти в др. ячейку\n",
    "Run\n",
    "Ctrl+Enter - выполнить и остаться в ячейке"
   ]
  },
  {
   "cell_type": "markdown",
   "metadata": {},
   "source": [
    "Задание 1. Даны 2 строки: long_phrase и short_phrase. Напишите код, который проверяет действительно ли длинная фраза long_phrase длиннее короткой short_phrase. И выводит True или False в зависимости от результата сравнения."
   ]
  },
  {
   "cell_type": "markdown",
   "metadata": {},
   "source": [
    "long_phrase = 'Насколько проще было бы писать программы, если бы не заказчики'\n",
    "short_phrase = '640Кб должно хватить для любых задач. Билл Гейтс (по легенде)'"
   ]
  },
  {
   "cell_type": "code",
   "execution_count": 8,
   "metadata": {},
   "outputs": [
    {
     "data": {
      "text/plain": [
       "True"
      ]
     },
     "execution_count": 8,
     "metadata": {},
     "output_type": "execute_result"
    }
   ],
   "source": [
    "len('Насколько проще было бы писать программы, если бы не заказчики') > len('640Кб должно хватить для любых задач. Билл Гейтс (по легенде)')"
   ]
  },
  {
   "cell_type": "code",
   "execution_count": 7,
   "metadata": {},
   "outputs": [
    {
     "name": "stdout",
     "output_type": "stream",
     "text": [
      "True\n"
     ]
    }
   ],
   "source": [
    "long_phrase = 'Насколько проще было бы писать программы, если бы не заказчики'\n",
    "short_phrase = '640Кб должно хватить для любых задач. Билл Гейтс (по легенде)'\n",
    "\n",
    "if len(long_phrase) > len(short_phrase):\n",
    "    print('True')\n",
    "else:\n",
    "    print('False')"
   ]
  },
  {
   "cell_type": "markdown",
   "metadata": {},
   "source": [
    "Задание 2. Дано значение объема файла в байтах (в мегабайте 2^20 байт). Напишите перевод этого значения в мегабайты в формате: \"Объем файла равен 213.68Mb\"."
   ]
  },
  {
   "cell_type": "code",
   "execution_count": 4,
   "metadata": {},
   "outputs": [
    {
     "name": "stdout",
     "output_type": "stream",
     "text": [
      "Введите число в байтах 100000\n",
      "Объем файла равен 0.1 Mb\n"
     ]
    }
   ],
   "source": [
    "number = int(input('Введите число в байтах '))\n",
    "a = number / (2 ** 20)\n",
    "print('Объем файла равен', round(a, 2),'Mb')"
   ]
  },
  {
   "cell_type": "markdown",
   "metadata": {},
   "source": [
    "Задание 3. Разработать приложение для определения знака зодиака по дате рождения. Пример:\n",
    "\n",
    "Введите месяц: март\n",
    "\n",
    "Введите число: 6\n",
    "\n",
    "Вывод: Рыбы"
   ]
  },
  {
   "cell_type": "markdown",
   "metadata": {},
   "source": [
    "Овен (21 марта – 20 апреля)\n",
    "Телец (21 апреля – 21 мая)\n",
    "Близнецы (22 мая – 21 июня)\n",
    "Рак (22 июня – 22 июля)\n",
    "Лев (23 июля – 23 августа)\n",
    "Дева (24 августа – 23 сентября)\n",
    "Весы (24 сентября – 23 октября)\n",
    "Скорпион (24 октября – 22 ноября)\n",
    "Стрелец (23 ноября – 21 декабря)\n",
    "Козерог (22 декабря – 20 января)\n",
    "Водолей (21 января – 18 февраля)\n",
    "Рыбы (19 февраля – 20 марта)"
   ]
  },
  {
   "cell_type": "code",
   "execution_count": 28,
   "metadata": {},
   "outputs": [
    {
     "name": "stdout",
     "output_type": "stream",
     "text": [
      "Введите месяц май\n",
      "Введите число 5\n",
      "Телец\n"
     ]
    }
   ],
   "source": [
    "from datetime import date\n",
    "d_month = input('Введите месяц ')\n",
    "d_date = int(input('Введите число '))\n",
    "\n",
    "if (d_month == 'март' and d_date >= 21) or (d_month == 'апрель' and d_date <= 20):\n",
    "    print('Овен')\n",
    "if (d_month == 'апрель' and d_date >= 21) or (d_month == 'май' and d_date <= 21):\n",
    "    print('Телец')\n",
    "if (d_month == 'май' and d_date >= 22) or (d_month == 'июнь' and d_date <= 21):\n",
    "    print('Близнецы')\n",
    "if (d_month == 'июнь' and d_date >= 22) or (d_month == 'июль' and d_date <= 22):\n",
    "    print('Рак')\n",
    "if (d_month == 'июль' and d_date >= 23) or (d_month == 'август' and d_date <= 23):\n",
    "    print('Лев')\n",
    "if (d_month == 'август' and d_date >= 24) or (d_month == 'сентябрь' and d_date <= 23):\n",
    "    print('Дева')\n",
    "if (d_month == 'сентябрь' and d_date >= 24) or (d_month == 'октябрь' and d_date <= 23):\n",
    "    print('Весы')\n",
    "if (d_month == 'октябрь' and d_date >= 24) or (d_month == 'ноябрь' and d_date <= 22):\n",
    "    print('Скорпион')\n",
    "if (d_month == 'ноябрь' and d_date >= 23) or (d_month == 'декабрь' and d_date <= 21):\n",
    "    print('Стрелец')\n",
    "if (d_month == 'декабрь' and d_date >= 22) or (d_month == 'январь' and d_date <= 20):\n",
    "    print('Козерог')\n",
    "if (d_month == 'январь' and d_date >= 21) or (d_month == 'февраль' and d_date <= 18):\n",
    "    print('Водолей')\n",
    "if (d_month == 'февраль' and d_date >= 19) or (d_month == 'март' and d_date <= 20):\n",
    "    print('Рыбы')"
   ]
  },
  {
   "cell_type": "markdown",
   "metadata": {},
   "source": [
    "Задание 4. Нужно разработать приложение для финансового планирования. Приложение учитывает, сколько уходит на ипотеку, \"на жизнь\" и сколько нужно отложить на пенсию. Пользователь вводит:\n",
    "\n",
    "заработанную плату в месяц.\n",
    "сколько процентов от ЗП уходит на ипотеку.\n",
    "сколько процентов от ЗП уходит \"на жизнь\".\n",
    "сколько раз приходит премия в год.\n",
    "Остальная часть заработанной платы откладывается на пенсию.\n",
    "\n",
    "Также пользователю приходит премия в размере зарплаты, от которой половина уходит на отпуск, а вторая половина откладывается.\n",
    "\n",
    "Программа должна учитывать, сколько премий было в год.\n",
    "\n",
    "Нужно вывести, сколько денег тратит пользователь на ипотеку и сколько он накопит за год.\n",
    "\n",
    "Пример:\n",
    "\n",
    "Введите заработанную плату в месяц: 100000\n",
    "\n",
    "Введите сколько процентов уходит на ипотеку: 30\n",
    "\n",
    "Введите сколько процентов уходит на жизнь: 50\n",
    "\n",
    "Введите количество премий за год: 2\n",
    "\n",
    "Вывод: На ипотеку было потрачено: 360000 рублей Было накоплено: 340000 рублей"
   ]
  },
  {
   "cell_type": "markdown",
   "metadata": {},
   "source": [
    "Ипотека = % от зп * 12\n",
    "Накопления за год = (зп - % зп на ипотеку - % на жизнь) * 12 + 50% от зп * кол-во премий в год\n",
    "Премия = зарплата\n",
    "50% премии - на отпуск\n",
    "50% премии откладывается\n",
    "*\n",
    "Нужно вывести, сколько денег тратит пользователь на ипотеку и сколько он накопит за год.\n",
    "*\n",
    "Переменные:\n",
    "зп в мес - zarplata\n",
    "% на ипотеку - ipoteka_percent\n",
    "% на жизнь - naZhyzn_percent\n",
    "кол-во премий в год - quantity_premii\n",
    "\n",
    "Ипотека (ipoteka) = зп / 100 * % на ипотеку * 12 мес.\n",
    "Накопления за год (nakopleniya) = (зп -  % зп на ипотеку - % на жизнь) * 12 + зп * 50% * кол-во премий в год"
   ]
  },
  {
   "cell_type": "code",
   "execution_count": 11,
   "metadata": {},
   "outputs": [
    {
     "name": "stdout",
     "output_type": "stream",
     "text": [
      "Введите заработанную плату в месяц: 100000\n",
      "Введите, сколько процентов уходит на ипотеку: 30\n",
      "Введите, сколько процентов уходит на жизнь: 50\n",
      "Введите количество премий за год: 2\n",
      "На ипотеку было потрачено:  360000 рублей\n",
      "Было накоплено: 340000 рублей\n"
     ]
    }
   ],
   "source": [
    "zarplata = int(input('Введите заработанную плату в месяц: '))\n",
    "ipoteka_percent = int(input('Введите, сколько процентов уходит на ипотеку: '))\n",
    "naZhyzn_percent = int(input('Введите, сколько процентов уходит на жизнь: '))\n",
    "quantity_premii = int(input('Введите количество премий за год: '))\n",
    "\n",
    "ipoteka = round(zarplata / 100 * ipoteka_percent * 12)\n",
    "print('На ипотеку было потрачено: ', ipoteka, 'рублей')\n",
    "\n",
    "nakopleniya = round((zarplata - (zarplata / 100 * ipoteka_percent) - (zarplata / 100 * naZhyzn_percent)) * 12 + (zarplata / 2 * quantity_premii))\n",
    "print('Было накоплено:', nakopleniya, 'рублей')"
   ]
  }
 ],
 "metadata": {
  "kernelspec": {
   "display_name": "Python 3",
   "language": "python",
   "name": "python3"
  },
  "language_info": {
   "codemirror_mode": {
    "name": "ipython",
    "version": 3
   },
   "file_extension": ".py",
   "mimetype": "text/x-python",
   "name": "python",
   "nbconvert_exporter": "python",
   "pygments_lexer": "ipython3",
   "version": "3.7.6"
  }
 },
 "nbformat": 4,
 "nbformat_minor": 4
}
