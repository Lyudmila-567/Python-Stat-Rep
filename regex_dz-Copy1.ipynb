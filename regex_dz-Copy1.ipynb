{
 "cells": [
  {
   "cell_type": "markdown",
   "metadata": {},
   "source": [
    "Задание 1\n",
    "Напишите функцию, которая принимает на вход строку и проверяет является ли она валидным транспортным номером (1 буква, 3 цифры, 2 буквы, 2-3 цифры). Обратите внимание, что не все буквы кириллического алфавита используются в транспортных номерах.\n",
    "\n",
    "Если номер валиден, то функция должна возвращать отдельно номер и регион.\n",
    "\n",
    "Примеры работы программы:\n",
    "\n",
    "car_id = 'АВ222С96’\n",
    "Результат: Номер АВ222С валиден. Регион: 96\n",
    "\n",
    "car_id = 'АБ22ВВ193’\n",
    "Результат: Номер не валиден"
   ]
  },
  {
   "cell_type": "code",
   "execution_count": 2,
   "metadata": {},
   "outputs": [],
   "source": [
    "import re"
   ]
  },
  {
   "cell_type": "code",
   "execution_count": 6,
   "metadata": {
    "cocalc": {
     "outputs": {
      "0": {
       "name": "input",
       "opts": {
        "password": false,
        "prompt": ""
       },
       "output_type": "stream",
       "value": "А222ВС96"
      }
     }
    }
   },
   "outputs": [
    {
     "name": "stdout",
     "output_type": "stream",
     "text": [
      " А222ВС96"
     ]
    },
    {
     "data": {
      "text/plain": [
       "'Номер А222ВС валиден. Регион: 96'"
      ]
     },
     "execution_count": 6,
     "metadata": {},
     "output_type": "execute_result"
    }
   ],
   "source": [
    "num = input()\n",
    "def trans_num_checker():\n",
    "    #Задаю условие с соответствием шаблону с определенным количеством букв и цифр и только с определенным набором букв:\n",
    "    if num != r\"^[А|В|Е|К|М|Н|О|Р|С|Т|У|Х]{1}\\d{3}[АВЕКМНОРСТУХ]{2}\\d{2,3}\":  \n",
    "        #работает почему-то с не-равно и не работает с ==. Не поняла почему. \n",
    "        \n",
    "        #задаю поиск 1-й и 2-й частей шаблона и записываю в переменные, чтобы обратиться к ним на выходе:\n",
    "        part_main = re.compile('^[А|В|Е|К|М|Н|О|Р|С|Т|У|Х]{1}\\d{3}[АВЕКМНОРСТУХ]{2}').findall(num)[0]\n",
    "        part_region = re.compile('\\d{2,3}$').findall(num)[0]\n",
    "        return f'Номер {part_main} валиден. Регион: {part_region}'\n",
    "    return 'Номер не валиден'\n",
    "trans_num_checker()"
   ]
  },
  {
   "cell_type": "code",
   "execution_count": 0,
   "metadata": {},
   "outputs": [],
   "source": []
  },
  {
   "cell_type": "markdown",
   "metadata": {},
   "source": [
    "Задание 2\n",
    "Напишите функцию, которая будет удалять все последовательные повторы слов из заданной строки при помощи регулярных выражений.\n",
    "\n",
    "Пример работы программы:\n",
    "\n",
    "some_string = ‘Напишите функцию функцию, которая будет будет будет будет удалять все все все все последовательные повторы слов из из из из заданной строки строки при помощи регулярных выражений’\n",
    "\n",
    "Результат: Напишите функцию, которая будет удалять все последовательные повторы слов из заданной строки при помощи регулярных выражений."
   ]
  },
  {
   "cell_type": "code",
   "execution_count": 1,
   "metadata": {},
   "outputs": [],
   "source": [
    "import re"
   ]
  },
  {
   "cell_type": "code",
   "execution_count": 14,
   "metadata": {},
   "outputs": [
    {
     "name": "stdout",
     "output_type": "stream",
     "text": [
      "['Напишите', 'функцию', 'функцию', 'которая', 'будет', 'будет', 'будет', 'будет', 'удалять', 'все', 'все', 'все', 'все', 'последовательные', 'повторы', 'слов', 'из', 'из', 'из', 'из', 'заданной', 'строки', 'строки', 'при', 'помощи', 'регулярных', 'выражений']\n"
     ]
    }
   ],
   "source": [
    "some_string = 'Напишите функцию функцию, которая будет будет будет будет удалять все все все все последовательные повторы слов из из из из заданной строки строки при помощи регулярных выражений.'\n",
    "split_text = re.findall(r'\\w+', some_string)    #сначала разобьем текст на слова и запишем в переменную\n",
    "print(split_text)"
   ]
  },
  {
   "cell_type": "code",
   "execution_count": 8,
   "metadata": {},
   "outputs": [
    {
     "name": "stdout",
     "output_type": "stream",
     "text": [
      "Напишите функцию которая будет удалять все последовательные повторы слов из заданной строки при помощи регулярных выражений\n"
     ]
    }
   ],
   "source": [
    "def get_unique_list(some_string):\n",
    "    unique = []\n",
    "    #зададим пустой список, содержащий уникальные значения, и будем в него добавлять слова\n",
    "    for word in split_text:\n",
    "        if word not in unique:\n",
    "            unique.append(word)\n",
    "    return ' '.join(unique)    #и превратим набор слов в предложение, правда, без знаков препинания.\n",
    "\n",
    "print(get_unique_list(some_string))"
   ]
  },
  {
   "cell_type": "code",
   "execution_count": null,
   "metadata": {},
   "outputs": [],
   "source": [
    "#Вариант 2."
   ]
  },
  {
   "cell_type": "code",
   "execution_count": 4,
   "metadata": {},
   "outputs": [
    {
     "data": {
      "text/plain": [
       "'Напишите функцию которая будет удалять все последовательные повторы слов из заданной строки при помощи регулярных выражений'"
      ]
     },
     "execution_count": 4,
     "metadata": {},
     "output_type": "execute_result"
    }
   ],
   "source": [
    "some_string = 'Напишите функцию функцию, которая будет будет будет будет удалять все все все все последовательные повторы слов из из из из заданной строки строки при помощи регулярных выражений.'\n",
    "\n",
    "def unique_sent():\n",
    "    unique_words = re.findall(r'(\\b\\w+\\b)(?!.*\\b\\1\\b)', some_string)\n",
    "    sentence = ' '.join(unique_words)\n",
    "    return sentence\n",
    "unique_sent()"
   ]
  },
  {
   "cell_type": "code",
   "execution_count": 0,
   "metadata": {},
   "outputs": [],
   "source": []
  },
  {
   "cell_type": "markdown",
   "metadata": {},
   "source": [
    "Задание 3\n",
    "Напишите функцию, которая будет возвращать акроним по переданной в нее строке со словами.\n",
    "\n",
    "Примеры работы программы:\n",
    "\n",
    "some_words = 'Информационные технологии’\n",
    "Результат: ИТ\n",
    "\n",
    "some_words = 'Near Field Communication’\n",
    "Результат: NFC"
   ]
  },
  {
   "cell_type": "markdown",
   "metadata": {},
   "source": [
    "Напишите функцию, которая будет возвращать акроним по переданной в нее строке со словами.\n",
    "Примеры работы программы:\n",
    "some_words = 'Информационные технологии'\n",
    "Результат: ИТ\n",
    "some_words = 'Near Field Communication'\n",
    "Результат: NFC"
   ]
  },
  {
   "cell_type": "code",
   "execution_count": 5,
   "metadata": {},
   "outputs": [
    {
     "name": "stdout",
     "output_type": "stream",
     "text": [
      "Информационные технологии с индекса 0 and технологии с индекса 15\n"
     ]
    }
   ],
   "source": [
    "pattern = r'(\\b\\w+\\b)\\s(\\b\\w+\\b)'\n",
    "string = 'Информационные технологии'\n",
    "match = re.search(pattern, string)\n",
    "print(f'{match[0]} с индекса {match.start(0)} and {match[2]} с индекса {match.start(2)}')\n",
    "#Напишем регулярное и попробуем найти начальные буквы по индексу. Это проба"
   ]
  },
  {
   "cell_type": "code",
   "execution_count": 6,
   "metadata": {},
   "outputs": [
    {
     "name": "stdout",
     "output_type": "stream",
     "text": [
      "Near Field Communication с индекса 0 и Field с индекса 5 и Communication с индекса 11\n"
     ]
    }
   ],
   "source": [
    "pattern = r'(\\b\\w+\\b)\\s(\\b\\w+\\b)\\s(\\b\\w+\\b)'\n",
    "string = 'Near Field Communication'\n",
    "match = re.search(pattern, string)\n",
    "print(f'{match[0]} с индекса {match.start(0)} и {match[2]} с индекса {match.start(2)} и {match[3]} с индекса {match.start(3)}')\n",
    "#Аналогично для 3 слов. Это проба"
   ]
  },
  {
   "cell_type": "code",
   "execution_count": null,
   "metadata": {},
   "outputs": [],
   "source": [
    "string = input()      #Добавим ввод и разбивку строки на слова с помощью регулярки\n",
    "print(re.split(r'(\\b\\w+\\b!\\s)', string))"
   ]
  },
  {
   "cell_type": "code",
   "execution_count": 8,
   "metadata": {
    "cocalc": {
     "outputs": {
      "0": {
       "name": "input",
       "opts": {
        "password": false,
        "prompt": ""
       },
       "output_type": "stream",
       "value": "Near Field Communication"
      }
     }
    }
   },
   "outputs": [
    {
     "name": "stdout",
     "output_type": "stream",
     "text": [
      "Near Field Communication\n",
      "NFC\n"
     ]
    }
   ],
   "source": [
    "string = input()      #Соберем всё в функцию и добавим поиск по индексу. Это \"ручной\" вариант.\n",
    "def abbr_search(string):\n",
    "    for word in string:\n",
    "        match = re.split(r'(\\b\\w+\\b!\\s)', string)\n",
    "    print(f'{match[0][0]}{match[0][5]}{match[0][11]}')\n",
    "abbr_search(string)"
   ]
  },
  {
   "cell_type": "code",
   "execution_count": 36,
   "metadata": {
    "cocalc": {
     "outputs": {
      "0": {
       "name": "input",
       "opts": {
        "password": false,
        "prompt": ""
       },
       "output_type": "stream",
       "value": "Near Field Communication"
      }
     }
    }
   },
   "outputs": [
    {
     "name": "stdout",
     "output_type": "stream",
     "text": [
      " Near Field CommunicationNFC\n"
     ]
    }
   ],
   "source": [
    "string = input()           #Сделаем нашу функцию универсальной\n",
    "def abbr_search(string):\n",
    "    abbr = []\n",
    "    for word in re.finditer(r'(\\b\\w+\\b)', string):\n",
    "        word.start(0)\n",
    "        first_let = word[0][0]\n",
    "        abbr.append(first_let)\n",
    "    return ''.join(abbr)\n",
    "print(abbr_search(string))"
   ]
  },
  {
   "cell_type": "code",
   "execution_count": 0,
   "metadata": {},
   "outputs": [],
   "source": []
  },
  {
   "cell_type": "markdown",
   "metadata": {},
   "source": [
    "Задание 4\n",
    "Напишите функцию, которая будет принимать на вход список email-адресов и выводить их распределение по доменным зонам.\n",
    "\n",
    "Пример работы программы:\n",
    "emails = [‘test@gmail.com, xyz@test.in, test@ya.ru, xyz@mail.ru, xyz@ya.ru’, xyz@gmail.com]\n",
    "\n",
    "Результат:\n",
    "gmail.com: 2\n",
    "test.in: 1\n",
    "ya.ru: 2\n",
    "mail.ru: 1"
   ]
  },
  {
   "cell_type": "code",
   "execution_count": 29,
   "metadata": {},
   "outputs": [],
   "source": [
    "emails = ['test@gmail.com', 'xyz@test.in', 'test@ya.ru', 'xyz@mail.ru', 'xyz@ya.ru', 'xyz@gmail.com']"
   ]
  },
  {
   "cell_type": "code",
   "execution_count": 36,
   "metadata": {},
   "outputs": [
    {
     "name": "stdout",
     "output_type": "stream",
     "text": [
      "gmail.com test.in ya.ru mail.ru ya.ru gmail.com gmail.com test.in ya.ru mail.ru ya.ru gmail.com gmail.com test.in ya.ru mail.ru ya.ru gmail.com gmail.com test.in ya.ru mail.ru ya.ru gmail.com gmail.com test.in ya.ru mail.ru ya.ru gmail.com gmail.com test.in ya.ru mail.ru ya.ru gmail.com\n"
     ]
    }
   ],
   "source": [
    "str1 = ' '.join(emails)\n",
    "dom_pat = re.findall(r'(\\w+\\.\\w{2,3})', str1)\n",
    "str2 = ' '.join(dom_pat)\n",
    "print(re.sub(r'\\b\\w+@\\w+\\.\\w{2,3}\\b', str2, str1))  #Не понимаю, почему так много повторов. Что-то не то."
   ]
  },
  {
   "cell_type": "code",
   "execution_count": 31,
   "metadata": {},
   "outputs": [
    {
     "data": {
      "text/plain": [
       "{'xyz@mail.ru': 1,\n",
       " 'test@ya.ru': 1,\n",
       " 'xyz@ya.ru': 1,\n",
       " 'test@gmail.com': 1,\n",
       " 'xyz@test.in': 1,\n",
       " 'xyz@gmail.com': 1}"
      ]
     },
     "execution_count": 31,
     "metadata": {},
     "output_type": "execute_result"
    }
   ],
   "source": [
    "dict((email, emails.count(email)) for email in set(emails)) #Пробуем посчитать емейлы через каунт и словарь"
   ]
  },
  {
   "cell_type": "code",
   "execution_count": 33,
   "metadata": {},
   "outputs": [
    {
     "data": {
      "text/plain": [
       "{'mail.ru': 1, 'gmail.com': 2, 'test.in': 1, 'ya.ru': 2}"
      ]
     },
     "execution_count": 33,
     "metadata": {},
     "output_type": "execute_result"
    }
   ],
   "source": [
    "def result_count():           #Собираем в функцию   \n",
    "    str1 = ' '.join(emails)   #Джойним обязательно с пробелом, иначе буквы разных слов будут \"перетекать\"\n",
    "    domain_pattern = re.findall(r'(\\w+\\.\\w{2,3})', str1)\n",
    "    return dict((domain, domain_pattern.count(domain)) for domain in set(domain_pattern))\n",
    "    #Считаем с помощью каунт и словаря\n",
    "result_count()"
   ]
  },
  {
   "cell_type": "code",
   "execution_count": 0,
   "metadata": {},
   "outputs": [],
   "source": []
  }
 ],
 "metadata": {
  "kernelspec": {
   "display_name": "Python 3",
   "language": "python",
   "name": "python3"
  },
  "language_info": {
   "codemirror_mode": {
    "name": "ipython",
    "version": 3
   },
   "file_extension": ".py",
   "mimetype": "text/x-python",
   "name": "python",
   "nbconvert_exporter": "python",
   "pygments_lexer": "ipython3",
   "version": "3.7.6"
  }
 },
 "nbformat": 4,
 "nbformat_minor": 4
}
