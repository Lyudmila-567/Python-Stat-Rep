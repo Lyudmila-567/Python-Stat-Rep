{
 "cells": [
  {
   "cell_type": "markdown",
   "metadata": {},
   "source": [
    "Необходимо реализовать пользовательские команды (внимание! это не название функций, которые должны быть выразительными, а команды, которые вводит пользователь, чтобы получить необходимый результат):\n",
    "\n",
    "p – people – команда, которая спросит номер документа и выведет имя человека, которому он принадлежит;\n",
    "s – shelf – команда, которая спросит номер документа и выведет номер полки, на которой он находится\n",
    "Правильно обработайте ситуации, когда пользователь будет вводить несуществующий документ.\n",
    "l – list – команда, которая выведет список всех документов в формате\n",
    "passport \"2207 876234\" \"Василий Гупкин\"\n",
    "as – add shelf – команда, которая спросит номер новой полки и добавит ее в перечень. Предусмотрите случай, когда пользователь добавляет полку, которая уже существует.\n",
    "d – delete – команда, которая спросит номер документа и удалит его из каталога и из перечня полок. Предусмотрите сценарий, когда пользователь вводит несуществующий документ;\n",
    "m – move – команда, которая спросит номер документа и целевую полку и переместит его с текущей полки на целевую. Корректно обработайте кейсы, когда пользователь пытается переместить несуществующий документ или переместить документ на несуществующую полку;\n",
    "a – add – команда, которая добавит новый документ в каталог и в перечень полок, спросив его номер, тип, имя владельца и номер полки, на которой он будет храниться. Корректно обработайте ситуацию, когда пользователь будет пытаться добавить документ на несуществующую полку."
   ]
  },
  {
   "cell_type": "code",
   "execution_count": 4,
   "metadata": {},
   "outputs": [],
   "source": [
    "documents = [\n",
    "    {'type': 'passport', 'number': '2207 876234', 'name': 'Василий Гупкин'},\n",
    "    {'type': 'invoice', 'number': '11-2', 'name': 'Геннадий Покемонов'},\n",
    "    {'type': 'insurance', 'number': '10006', 'name': 'Аристарх Павлов'}\n",
    "]\n",
    "directories = {\n",
    "    '1': ['2207 876234', '11-2'],\n",
    "    '2': ['10006'],\n",
    "    '3': []\n",
    "}"
   ]
  },
  {
   "cell_type": "markdown",
   "metadata": {},
   "source": [
    "p – people – команда, которая спросит номер документа и выведет имя человека, которому он принадлежит;"
   ]
  },
  {
   "cell_type": "code",
   "execution_count": 15,
   "metadata": {},
   "outputs": [
    {
     "name": "stdout",
     "output_type": "stream",
     "text": [
      "Введите номер документа: 10006\n",
      "Аристарх Павлов\n"
     ]
    }
   ],
   "source": [
    "def person_name():\n",
    "    user_input = input('Введите номер документа: ')\n",
    "    for person in documents:\n",
    "        if user_input == person ['number']:\n",
    "            return person ['name']\n",
    "print(person_name())"
   ]
  },
  {
   "cell_type": "markdown",
   "metadata": {},
   "source": [
    "s – shelf – команда, которая спросит номер документа и выведет номер полки, на которой он находится\n",
    "Правильно обработайте ситуации, когда пользователь будет вводить несуществующий документ."
   ]
  },
  {
   "cell_type": "code",
   "execution_count": 6,
   "metadata": {},
   "outputs": [
    {
     "name": "stdout",
     "output_type": "stream",
     "text": [
      "Введите номер документа: 79\n",
      "Документ с таким номером отсутствует. Введите другой.\n"
     ]
    }
   ],
   "source": [
    "def shelf_number():\n",
    "    user_input = input('Введите номер документа: ')\n",
    "    for key, value in directories.items():\n",
    "        if user_input in value:\n",
    "            return key\n",
    "    return 'Документ с таким номером отсутствует. Введите другой.'\n",
    "print(shelf_number())"
   ]
  },
  {
   "cell_type": "markdown",
   "metadata": {},
   "source": [
    "l – list – команда, которая выведет список всех документов в формате\n",
    "passport \"2207 876234\" \"Василий Гупкин\""
   ]
  },
  {
   "cell_type": "code",
   "execution_count": 16,
   "metadata": {},
   "outputs": [
    {
     "name": "stdout",
     "output_type": "stream",
     "text": [
      "passport \"2207 876234\" \"Василий Гупкин\"\n",
      "invoice \"11-2\" \"Геннадий Покемонов\"\n",
      "insurance \"10006\" \"Аристарх Павлов\"\n",
      "inv \"1257/4\" \"Rossy\"\n",
      "inv \"168/5\" \"Sony\"\n",
      "None\n"
     ]
    }
   ],
   "source": [
    "def person_list():\n",
    "    for person in documents:\n",
    "        print(person ['type'] + ' \"' + person ['number'] + '\" ' + '\"' + person ['name'] + '\"')\n",
    "print(person_list())"
   ]
  },
  {
   "cell_type": "markdown",
   "metadata": {},
   "source": [
    "as – add shelf – команда, которая спросит номер новой полки и добавит ее в перечень. Предусмотрите случай, когда пользователь добавляет полку, которая уже существует."
   ]
  },
  {
   "cell_type": "code",
   "execution_count": 8,
   "metadata": {},
   "outputs": [
    {
     "name": "stdout",
     "output_type": "stream",
     "text": [
      "Введите номер новой полки: 8\n",
      "Полка добавлена\n"
     ]
    }
   ],
   "source": [
    "def add_new_shelf():\n",
    "    new_shelf = input('Введите номер новой полки: ')\n",
    "    if new_shelf not in directories:\n",
    "        directories.setdefault(new_shelf)\n",
    "    else:\n",
    "        return 'Полка уже существует'\n",
    "    return 'Полка добавлена'\n",
    "print(add_new_shelf())"
   ]
  },
  {
   "cell_type": "markdown",
   "metadata": {},
   "source": [
    "d – delete – команда, которая спросит номер документа и удалит его из каталога и из перечня полок. Предусмотрите сценарий, когда пользователь вводит несуществующий документ;"
   ]
  },
  {
   "cell_type": "code",
   "execution_count": 9,
   "metadata": {},
   "outputs": [
    {
     "name": "stdout",
     "output_type": "stream",
     "text": [
      "Введите номер документа: 489\n"
     ]
    },
    {
     "data": {
      "text/plain": [
       "'Неверный номер документа'"
      ]
     },
     "execution_count": 9,
     "metadata": {},
     "output_type": "execute_result"
    }
   ],
   "source": [
    "def dir_delete():\n",
    "    doc_input = input('Введите номер документа: ')\n",
    "    doc_found = False\n",
    "    for el in documents:\n",
    "        if doc_input == el['number']:\n",
    "            documents.remove(el)\n",
    "            doc_found = True\n",
    "            for value in directories.values():\n",
    "                for i in value:\n",
    "                    if i == doc_input:\n",
    "                        return value.remove(i)\n",
    "    return 'Неверный номер документа'\n",
    "print(dir_delete())"
   ]
  },
  {
   "cell_type": "markdown",
   "metadata": {},
   "source": [
    "m – move – команда, которая спросит номер документа и целевую полку и переместит его с текущей полки на целевую. Корректно обработайте кейсы, когда пользователь пытается переместить несуществующий документ или переместить документ на несуществующую полку;"
   ]
  },
  {
   "cell_type": "code",
   "execution_count": null,
   "metadata": {},
   "outputs": [],
   "source": [
    "def shelf_move():\n",
    "    shelf_input = input('Введите номер целевой полки: ')\n",
    "    if shelf_input in directories:\n",
    "        print('True')\n",
    "    else:\n",
    "        return 'Полка не найдена'\n",
    "print(shelf_move())\n",
    "#Эту функцию можно вообще опустить, если нам подходит логика создавать новую полку, если ее нет в наличии. \n",
    "#Следующая функция как раз так и делает. "
   ]
  },
  {
   "cell_type": "code",
   "execution_count": 10,
   "metadata": {},
   "outputs": [
    {
     "name": "stdout",
     "output_type": "stream",
     "text": [
      "Введите номер перемещаемого документа: 10006\n",
      "Введите номер целевой полки: 6\n"
     ]
    },
    {
     "data": {
      "text/plain": [
       "'True'"
      ]
     },
     "execution_count": 10,
     "metadata": {},
     "output_type": "execute_result"
    }
   ],
   "source": [
    "def doc_move():\n",
    "    doccs_input = input('Введите номер перемещаемого документа: ')\n",
    "    shelf_input = input('Введите номер целевой полки: ')\n",
    "    for value in directories.values():\n",
    "        for i in value:\n",
    "            if i == doccs_input:\n",
    "                value.remove(i)\n",
    "                directories.setdefault(shelf_input) \n",
    "                return 'True'\n",
    "    return 'Такой документ не существует'\n",
    "print(doc_move())"
   ]
  },
  {
   "cell_type": "code",
   "execution_count": 18,
   "metadata": {},
   "outputs": [
    {
     "name": "stdout",
     "output_type": "stream",
     "text": [
      "Введите номер перемещаемого документа: 11-2\n",
      "Введите номер целевой полки: 3\n",
      "True\n"
     ]
    }
   ],
   "source": [
    "#Вариант решения №2. \n",
    "def doc_move():\n",
    "    doccs_input = input('Введите номер перемещаемого документа: ')\n",
    "    shelf_input = input('Введите номер целевой полки: ')\n",
    "    for value in directories.values():\n",
    "        for i in value:\n",
    "            if i == doccs_input:\n",
    "                value.remove(i)\n",
    "                document_found = True\n",
    "                for key in directories.keys(): \n",
    "                    if shelf_input == key:\n",
    "                        directories[key].append(doccs_input)\n",
    "                        return 'True'\n",
    "                return 'Полка не найдена'\n",
    "    return 'Такой документ не существует'\n",
    "print(doc_move())"
   ]
  },
  {
   "cell_type": "markdown",
   "metadata": {},
   "source": [
    "a – add – команда, которая добавит новый документ в каталог и в перечень полок, спросив его номер, тип, имя владельца и номер полки, на которой он будет храниться. Корректно обработайте ситуацию, когда пользователь будет пытаться добавить документ на несуществующую полку."
   ]
  },
  {
   "cell_type": "code",
   "execution_count": 12,
   "metadata": {},
   "outputs": [
    {
     "name": "stdout",
     "output_type": "stream",
     "text": [
      "Введите тип нового документа: inv\n",
      "Введите номер добавляемого документа: 168/5\n",
      "Введите имя владельца документа: Sony\n",
      "Введите номер полки для документа: 3\n",
      "Документ добавлен на полку\n"
     ]
    },
    {
     "data": {
      "text/plain": [
       "{'1': ['2207 876234', '11-2'], '2': [], '3': ['168/5'], '8': None, '6': None}"
      ]
     },
     "execution_count": 12,
     "metadata": {},
     "output_type": "execute_result"
    }
   ],
   "source": [
    "#Здесь ретерном можно не выводить все полки, если значений будет много, а так пока мне показалось удобнее))\n",
    "def docs_add():\n",
    "    doc = {}\n",
    "    doc ['type'] = input('Введите тип нового документа: ')\n",
    "    doc ['number'] = input('Введите номер добавляемого документа: ')\n",
    "    doc ['name'] = input('Введите имя владельца документа: ')\n",
    "    documents.append(doc)\n",
    "    shelf_number = input('Введите номер полки для документа: ')\n",
    "    if shelf_number in directories:\n",
    "        directories[shelf_number].append(doc['number'])\n",
    "        print('Документ добавлен на полку')\n",
    "    else:\n",
    "        directories[shelf_number] = [doc ['number']]\n",
    "        print('Создана новая полка и добавлен на нее документ')\n",
    "    return directories\n",
    "print(docs_add())"
   ]
  },
  {
   "cell_type": "code",
   "execution_count": 13,
   "metadata": {},
   "outputs": [],
   "source": [
    "def main():\n",
    "    while True:\n",
    "        user_input = input('Введите команду: ')\n",
    "        if user_input == 'people':\n",
    "            person_name()\n",
    "        elif user_input == 'shelf':\n",
    "            shelf_number()\n",
    "        elif user_input == 'list':\n",
    "            person_list()\n",
    "        elif user_input == 'add_shelf':\n",
    "            add_new_shelf()\n",
    "        elif user_input == 'delete':\n",
    "            dir_delete()\n",
    "        elif user_input == 'move':\n",
    "            doc_move()\n",
    "        elif user_input == 'add':\n",
    "            docs_add()\n",
    "            break\n",
    "            "
   ]
  },
  {
   "cell_type": "code",
   "execution_count": 14,
   "metadata": {},
   "outputs": [
    {
     "name": "stdout",
     "output_type": "stream",
     "text": [
      "Введите команду: people\n",
      "Введите номер документа: 11-2\n",
      "Введите команду: shelf\n",
      "Введите номер документа: 8\n"
     ]
    },
    {
     "ename": "TypeError",
     "evalue": "argument of type 'NoneType' is not iterable",
     "output_type": "error",
     "traceback": [
      "\u001b[1;31m---------------------------------------------------------------------------\u001b[0m",
      "\u001b[1;31mTypeError\u001b[0m                                 Traceback (most recent call last)",
      "\u001b[1;32m<ipython-input-14-263240bbee7e>\u001b[0m in \u001b[0;36m<module>\u001b[1;34m\u001b[0m\n\u001b[1;32m----> 1\u001b[1;33m \u001b[0mmain\u001b[0m\u001b[1;33m(\u001b[0m\u001b[1;33m)\u001b[0m\u001b[1;33m\u001b[0m\u001b[1;33m\u001b[0m\u001b[0m\n\u001b[0m",
      "\u001b[1;32m<ipython-input-13-84e9c482ca24>\u001b[0m in \u001b[0;36mmain\u001b[1;34m()\u001b[0m\n\u001b[0;32m      5\u001b[0m             \u001b[0mperson_name\u001b[0m\u001b[1;33m(\u001b[0m\u001b[1;33m)\u001b[0m\u001b[1;33m\u001b[0m\u001b[1;33m\u001b[0m\u001b[0m\n\u001b[0;32m      6\u001b[0m         \u001b[1;32melif\u001b[0m \u001b[0muser_input\u001b[0m \u001b[1;33m==\u001b[0m \u001b[1;34m'shelf'\u001b[0m\u001b[1;33m:\u001b[0m\u001b[1;33m\u001b[0m\u001b[1;33m\u001b[0m\u001b[0m\n\u001b[1;32m----> 7\u001b[1;33m             \u001b[0mshelf_number\u001b[0m\u001b[1;33m(\u001b[0m\u001b[1;33m)\u001b[0m\u001b[1;33m\u001b[0m\u001b[1;33m\u001b[0m\u001b[0m\n\u001b[0m\u001b[0;32m      8\u001b[0m         \u001b[1;32melif\u001b[0m \u001b[0muser_input\u001b[0m \u001b[1;33m==\u001b[0m \u001b[1;34m'list'\u001b[0m\u001b[1;33m:\u001b[0m\u001b[1;33m\u001b[0m\u001b[1;33m\u001b[0m\u001b[0m\n\u001b[0;32m      9\u001b[0m             \u001b[0mperson_list\u001b[0m\u001b[1;33m(\u001b[0m\u001b[1;33m)\u001b[0m\u001b[1;33m\u001b[0m\u001b[1;33m\u001b[0m\u001b[0m\n",
      "\u001b[1;32m<ipython-input-6-9d9380ef0520>\u001b[0m in \u001b[0;36mshelf_number\u001b[1;34m()\u001b[0m\n\u001b[0;32m      2\u001b[0m     \u001b[0muser_input\u001b[0m \u001b[1;33m=\u001b[0m \u001b[0minput\u001b[0m\u001b[1;33m(\u001b[0m\u001b[1;34m'Введите номер документа: '\u001b[0m\u001b[1;33m)\u001b[0m\u001b[1;33m\u001b[0m\u001b[1;33m\u001b[0m\u001b[0m\n\u001b[0;32m      3\u001b[0m     \u001b[1;32mfor\u001b[0m \u001b[0mkey\u001b[0m\u001b[1;33m,\u001b[0m \u001b[0mvalue\u001b[0m \u001b[1;32min\u001b[0m \u001b[0mdirectories\u001b[0m\u001b[1;33m.\u001b[0m\u001b[0mitems\u001b[0m\u001b[1;33m(\u001b[0m\u001b[1;33m)\u001b[0m\u001b[1;33m:\u001b[0m\u001b[1;33m\u001b[0m\u001b[1;33m\u001b[0m\u001b[0m\n\u001b[1;32m----> 4\u001b[1;33m         \u001b[1;32mif\u001b[0m \u001b[0muser_input\u001b[0m \u001b[1;32min\u001b[0m \u001b[0mvalue\u001b[0m\u001b[1;33m:\u001b[0m\u001b[1;33m\u001b[0m\u001b[1;33m\u001b[0m\u001b[0m\n\u001b[0m\u001b[0;32m      5\u001b[0m             \u001b[1;32mreturn\u001b[0m \u001b[0mkey\u001b[0m\u001b[1;33m\u001b[0m\u001b[1;33m\u001b[0m\u001b[0m\n\u001b[0;32m      6\u001b[0m     \u001b[1;32mreturn\u001b[0m \u001b[1;34m'Документ с таким номером отсутствует. Введите другой.'\u001b[0m\u001b[1;33m\u001b[0m\u001b[1;33m\u001b[0m\u001b[0m\n",
      "\u001b[1;31mTypeError\u001b[0m: argument of type 'NoneType' is not iterable"
     ]
    }
   ],
   "source": [
    "main()"
   ]
  },
  {
   "cell_type": "code",
   "execution_count": null,
   "metadata": {},
   "outputs": [],
   "source": []
  }
 ],
 "metadata": {
  "kernelspec": {
   "display_name": "Python 3",
   "language": "python",
   "name": "python3"
  },
  "language_info": {
   "codemirror_mode": {
    "name": "ipython",
    "version": 3
   },
   "file_extension": ".py",
   "mimetype": "text/x-python",
   "name": "python",
   "nbconvert_exporter": "python",
   "pygments_lexer": "ipython3",
   "version": "3.7.6"
  }
 },
 "nbformat": 4,
 "nbformat_minor": 4
}
